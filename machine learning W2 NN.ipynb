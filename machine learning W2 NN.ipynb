{
 "cells": [
  {
   "cell_type": "code",
   "execution_count": 440,
   "id": "fa9c330f",
   "metadata": {},
   "outputs": [],
   "source": [
    "import numpy as np\n",
    "import os\n",
    "from tensorflow import keras\n",
    "from tensorflow.keras.preprocessing.image import img_to_array, load_img\n",
    "from keras.models import Sequential\n",
    "from keras.layers import Dense, Flatten, Dropout\n",
    "from sklearn.model_selection import train_test_split"
   ]
  },
  {
   "cell_type": "code",
   "execution_count": 441,
   "id": "322edbec",
   "metadata": {},
   "outputs": [],
   "source": [
    "# Define image directory and target size\n",
    "image_directory = 'Downloads\\homer_bart'\n",
    "target_size = (64, 64)"
   ]
  },
  {
   "cell_type": "code",
   "execution_count": 442,
   "id": "5f566034",
   "metadata": {},
   "outputs": [],
   "source": [
    "\n",
    "# Load images and labels\n",
    "def load_images_and_labels(image_directory, target_size):\n",
    "    images = []\n",
    "    labels = []  # Assuming the folder names are the labels/classes\n",
    "\n",
    "    for label in os.listdir(image_directory):\n",
    "        class_path = os.path.join(image_directory, label)\n",
    "        if os.path.isdir(class_path):\n",
    "            for image_name in os.listdir(class_path):\n",
    "                image_path = os.path.join(class_path, image_name)\n",
    "                image = load_img(image_path, target_size=target_size)\n",
    "                image = img_to_array(image)\n",
    "                images.append(image)\n",
    "                labels.append(label)\n",
    "\n",
    "    images = np.array(images, dtype='float32') / 255.0  # Normalize images\n",
    "\n",
    "    label_to_int = {label: idx for idx, label in enumerate(set(labels))}\n",
    "    labels = [label_to_int[label] for label in labels]\n",
    "\n",
    "    labels = np.array(labels)\n",
    "    return images, labels\n",
    "     "
   ]
  },
  {
   "cell_type": "code",
   "execution_count": 443,
   "id": "a36934bf",
   "metadata": {},
   "outputs": [],
   "source": [
    "\n",
    "images, labels = load_images_and_labels(image_directory, target_size)\n",
    "     "
   ]
  },
  {
   "cell_type": "code",
   "execution_count": 444,
   "id": "34b022ca",
   "metadata": {},
   "outputs": [],
   "source": [
    "# Split the dataset\n",
    "X_train, X_test, y_train, y_test = train_test_split(images, labels, test_size=0.1, random_state=40)\n",
    "     "
   ]
  },
  {
   "cell_type": "code",
   "execution_count": 445,
   "id": "401a3f03",
   "metadata": {},
   "outputs": [],
   "source": [
    "# Define the model\n",
    "model = Sequential([\n",
    "    Flatten(input_shape=(64, 64, 3)),\n",
    "    Dense(512, activation='relu'),\n",
    "    # Dropout(0.1),  # Add dropout to prevent overfitting\n",
    "    Dense(256, activation='relu'),\n",
    "    # Dropout(0.1),  # Add dropout to prevent overfitting\n",
    "    Dense(256, activation='relu'),  \n",
    "    Dense(1, activation='sigmoid'),  # Assuming binary classification\n",
    "])\n",
    "   "
   ]
  },
  {
   "cell_type": "code",
   "execution_count": 446,
   "id": "191b36d7",
   "metadata": {},
   "outputs": [],
   "source": [
    "\n",
    "# Compile the model\n",
    "\n",
    "model.compile(optimizer=keras.optimizers.Adam(learning_rate=0.0001), loss='binary_crossentropy', metrics=['accuracy'])"
   ]
  },
  {
   "cell_type": "code",
   "execution_count": 447,
   "id": "1931a19e",
   "metadata": {},
   "outputs": [
    {
     "name": "stdout",
     "output_type": "stream",
     "text": [
      "Epoch 1/13\n",
      "8/8 - 1s - 111ms/step - accuracy: 0.5165 - loss: 0.7464\n",
      "Epoch 2/13\n",
      "8/8 - 0s - 44ms/step - accuracy: 0.6860 - loss: 0.6208\n",
      "Epoch 3/13\n",
      "8/8 - 0s - 47ms/step - accuracy: 0.7107 - loss: 0.5680\n",
      "Epoch 4/13\n",
      "8/8 - 0s - 35ms/step - accuracy: 0.6694 - loss: 0.5840\n",
      "Epoch 5/13\n",
      "8/8 - 0s - 38ms/step - accuracy: 0.7893 - loss: 0.4592\n",
      "Epoch 6/13\n",
      "8/8 - 0s - 35ms/step - accuracy: 0.8388 - loss: 0.4274\n",
      "Epoch 7/13\n",
      "8/8 - 0s - 47ms/step - accuracy: 0.8223 - loss: 0.4197\n",
      "Epoch 8/13\n",
      "8/8 - 0s - 41ms/step - accuracy: 0.7645 - loss: 0.4725\n",
      "Epoch 9/13\n",
      "8/8 - 0s - 41ms/step - accuracy: 0.7562 - loss: 0.4622\n",
      "Epoch 10/13\n",
      "8/8 - 0s - 40ms/step - accuracy: 0.7810 - loss: 0.4568\n",
      "Epoch 11/13\n",
      "8/8 - 0s - 41ms/step - accuracy: 0.7810 - loss: 0.3912\n",
      "Epoch 12/13\n",
      "8/8 - 0s - 41ms/step - accuracy: 0.8636 - loss: 0.3450\n",
      "Epoch 13/13\n",
      "8/8 - 0s - 40ms/step - accuracy: 0.8306 - loss: 0.3396\n"
     ]
    },
    {
     "data": {
      "text/plain": [
       "<keras.src.callbacks.history.History at 0x23645efe810>"
      ]
     },
     "execution_count": 447,
     "metadata": {},
     "output_type": "execute_result"
    }
   ],
   "source": [
    "\n",
    "# Train the model\n",
    "model.fit(X_train, y_train, batch_size=32, epochs=13, verbose=2)"
   ]
  },
  {
   "cell_type": "code",
   "execution_count": 448,
   "id": "91ca98ca",
   "metadata": {},
   "outputs": [
    {
     "name": "stdout",
     "output_type": "stream",
     "text": [
      "1/1 - 0s - 132ms/step - accuracy: 0.8148 - loss: 0.4563\n"
     ]
    },
    {
     "data": {
      "text/plain": [
       "[0.4562522768974304, 0.8148148059844971]"
      ]
     },
     "execution_count": 448,
     "metadata": {},
     "output_type": "execute_result"
    }
   ],
   "source": [
    "model.evaluate(X_test, y_test, batch_size=32, verbose=2)"
   ]
  },
  {
   "cell_type": "code",
   "execution_count": null,
   "id": "628e4a48",
   "metadata": {},
   "outputs": [],
   "source": []
  },
  {
   "cell_type": "code",
   "execution_count": null,
   "id": "2137f82c",
   "metadata": {},
   "outputs": [],
   "source": []
  }
 ],
 "metadata": {
  "kernelspec": {
   "display_name": "Python 3 (ipykernel)",
   "language": "python",
   "name": "python3"
  },
  "language_info": {
   "codemirror_mode": {
    "name": "ipython",
    "version": 3
   },
   "file_extension": ".py",
   "mimetype": "text/x-python",
   "name": "python",
   "nbconvert_exporter": "python",
   "pygments_lexer": "ipython3",
   "version": "3.11.5"
  }
 },
 "nbformat": 4,
 "nbformat_minor": 5
}
